{
 "cells": [
  {
   "cell_type": "code",
   "execution_count": 10,
   "metadata": {
    "extensions": {
     "jupyter_dashboards": {
      "version": 1,
      "views": {
       "grid_default": {},
       "report_default": {
        "hidden": true
       }
      }
     }
    }
   },
   "outputs": [
    {
     "name": "stdout",
     "output_type": "stream",
     "text": [
      "Importing data\n",
      "Cleaning data\n",
      "Extracting list data\n",
      "Data lists extracted\n",
      "(54453, 4)\n"
     ]
    }
   ],
   "source": [
    "# HIDDEN\n",
    "import nbinteract as nbi\n",
    "from ipywidgets import widgets\n",
    "import pandas as pd\n",
    "import datetime as dt\n",
    "import numpy as np\n",
    "\n",
    "# %matplotlib qt\n",
    "\n",
    "print(\"Importing data\")\n",
    "\n",
    "dateparse = lambda x: pd.to_datetime([x])\n",
    "df = pd.read_csv(\"data1.csv\",\n",
    "                 parse_dates=[[\"Index Dt\",\"Act Arr\"],[\"Index Dt\",\"Act Dep\"]],\n",
    "                )#,header =4)\n",
    "df.drop([\"Arr\",\"Dep\"], axis=1, inplace=True)\n",
    "df.columns = [\"Arr\",\"Dep\",\"Train\",\"Station\"]\n",
    "\n",
    "print(\"Cleaning data\")\n",
    "\n",
    "for i in [\"Arr\",\"Dep\"]:\n",
    "    df[i] = pd.to_datetime(df[i],errors='coerce')\n",
    "df['Date'] = df['Arr'].dt.date\n",
    "    \n",
    "df.sort_values(by=['Train','Date', 'Arr'], inplace=True,na_position='first')\n",
    "df[\"Dwell\"] = df.Dep - df.Arr\n",
    "df['Runtime'] = df.Arr - df.Dep.shift()\n",
    "df.loc[df['Runtime'] > pd.Timedelta(.5,unit=\"D\"),\"Runtime\"] = pd.NaT\n",
    "df.loc[df['Runtime'] < pd.Timedelta(1,unit=\"s\"),\"Runtime\"] = pd.NaT\n",
    "df.dropna(inplace=True)\n",
    "df.reset_index(inplace = True,drop=True)\n",
    "\n",
    "print(\"Extracting list data\")\n",
    "\n",
    "values = \"Date\",\"Train\",\"Station\"\n",
    "dd = {i:None for i in values}\n",
    "\n",
    "for key in dd:\n",
    "    dd[key] = list(df[key].unique())\n",
    "    dd[key] = [x for x in dd[key] if str(x)!= 'nan']\n",
    "    dd[key].sort()\n",
    "\n",
    "print(\"Data lists extracted\")\n",
    "\n",
    "start_date = min(df['Date'])\n",
    "end_date = max(df['Date'])\n",
    "df.set_index(['Train','Station','Date'],inplace = True)\n",
    "df.sort_values(by=[\"Train\",\"Date\",'Arr'])\n",
    "print(df.shape)"
   ]
  },
  {
   "cell_type": "markdown",
   "metadata": {
    "extensions": {
     "jupyter_dashboards": {
      "version": 1,
      "views": {
       "grid_default": {},
       "report_default": {
        "hidden": false
       }
      }
     }
    }
   },
   "source": [
    "Data is loaded for BNSF line only"
   ]
  },
  {
   "cell_type": "code",
   "execution_count": 11,
   "metadata": {
    "extensions": {
     "jupyter_dashboards": {
      "version": 1,
      "views": {
       "grid_default": {},
       "report_default": {
        "hidden": true
       }
      }
     }
    }
   },
   "outputs": [],
   "source": [
    "# HIDDEN\n",
    "import matplotlib.pyplot as plt\n",
    "from matplotlib.ticker import (MultipleLocator, FormatStrFormatter,\n",
    "                               AutoMinorLocator)\n",
    "plt.style.use('ggplot')\n",
    "from scipy.stats import describe\n",
    "from __future__ import print_function\n",
    "from ipywidgets import interact, interactive, fixed, interact_manual,SelectionRangeSlider\n",
    "from ipywidgets import Button, HBox, VBox\n",
    "import ipywidgets as widgets\n",
    "from IPython.display import display\n",
    "\n",
    "\n",
    "%matplotlib inline"
   ]
  },
  {
   "cell_type": "code",
   "execution_count": 12,
   "metadata": {
    "extensions": {
     "jupyter_dashboards": {
      "version": 1,
      "views": {
       "grid_default": {},
       "report_default": {
        "hidden": false
       }
      }
     }
    },
    "scrolled": false
   },
   "outputs": [
    {
     "data": {
      "application/vnd.jupyter.widget-view+json": {
       "model_id": "a864a66e5f5b4e57b8846894e50c60ff",
       "version_major": 2,
       "version_minor": 0
      },
      "text/plain": [
       "interactive(children=(Dropdown(description='Train Number:', index=5, options=(701, 702, 703, 704, 710, 711, 71…"
      ]
     },
     "metadata": {},
     "output_type": "display_data"
    }
   ],
   "source": [
    "# HIDDEN\n",
    "dates = pd.date_range(start_date, end_date, freq='D')\n",
    "\n",
    "options = [(date.strftime(' %d %b %Y '), date) for date in dates]\n",
    "index = (0, len(options)-1)\n",
    "\n",
    "ml = MultipleLocator(5)\n",
    "\n",
    "\n",
    "\n",
    "@interact(vl = widgets.Dropdown(options=[\"Minutes\",\"Seconds\"],\n",
    "#                                 value=1200.0, \n",
    "                                description='Scale:',\n",
    "                                disabled=False),\n",
    "    tr = widgets.Dropdown(options=dd[\"Train\"],\n",
    "                                value=711, \n",
    "                                description='Train Number:',\n",
    "                                disabled=False),\n",
    "          st = widgets.Dropdown(options=dd[\"Station\"],\n",
    "                                value='ACA', \n",
    "                                description='Station:',\n",
    "                                disabled=False),\n",
    "          bb = widgets.IntSlider(min=10,max=100,step=1,value=50,description='Bins',continuous_update = False,),\n",
    "          zoom = widgets.IntRangeSlider(\n",
    "              value = [0,50],\n",
    "              min = 0,\n",
    "              max=500,\n",
    "              step = 10,\n",
    "              description = \"Zoom Level\",\n",
    "              disabled = False,\n",
    "              continuous_update = False,\n",
    "              layout={'width': '500px'}\n",
    "          ),\n",
    "          sld = widgets.SelectionRangeSlider(\n",
    "              options=options,index=index,description='Dates',\n",
    "              orientation='horizontal',\n",
    "              continuous_update = False,\n",
    "              layout={'width': '500px'}\n",
    "          ),\n",
    "        run=[\"Runtime\",\"Dwell\"],\n",
    "         disptype=[False,True]\n",
    "         )\n",
    "\n",
    "\n",
    "\n",
    "\n",
    "def histoplot(tr,st,bb,sld,run,disptype,zoom,vl):\n",
    "   \n",
    "        \n",
    "    \n",
    "    fig = plt.figure(figsize=(16, 9))\n",
    "    ax = fig.add_subplot(111)\n",
    "#     print(pd.Timestamp(sld[0]),pd.Timestamp(sld[1]))\n",
    "    if vl == \"Seconds\":\n",
    "        out = df.xs((tr, st),level=[0, 'Station'])[run].dt.seconds.sort_index()\n",
    "        time = \" (secs)\"\n",
    "    else:\n",
    "        out = df.xs((tr, st),level=[0, 'Station'])[run].dt.seconds.sort_index()/60\n",
    "        time = \" (mins)\"\n",
    "    out =out.loc[pd.Timestamp(sld[0]):pd.Timestamp(sld[1])]\n",
    "    out = out[~np.isnan(out)]\n",
    "#     out.plot.density(ax=ax)\n",
    "#     sns.distplot(out, hist=True, kde=True, \n",
    "#              bins=bb, color = 'darkblue', \n",
    "#              hist_kws={'edgecolor':'black'},\n",
    "#              kde_kws={'linewidth': 4})\n",
    "\n",
    "    \n",
    "    ax.hist(x = out,  range=zoom, bins = bb,cumulative = disptype)\n",
    "    \n",
    "#     ax = sns.distplot(out)\n",
    "    ax.xaxis.set_minor_locator(ml)\n",
    "    plt.grid(b=True, which='minor')\n",
    "    plt.xlabel(run + time)\n",
    "    plt.ylabel(\"Observations\")\n",
    "    plt.title(run +\" observed at \"+ st +\" for \"+ str(tr) )\n",
    "    desc =pd.DataFrame(out.describe(percentiles =[.05,.25, .5, .75,.95]))\n",
    "    mod = pd.Series.to_frame(out.mode())\n",
    "#     mod.columns =(run)\n",
    "    \n",
    "    mod.rename(index={0:'mode'},columns={0: run}, inplace=True)\n",
    "    desc = pd.concat([desc,mod], ignore_index=False)\n",
    "    desc[run] = desc[run].astype(int, errors='ignore')\n",
    "    display(desc.T)\n",
    "#     display(out)\n",
    "    \n",
    "#     plt.show()\n",
    "# fig.show()\n",
    "#     return (out)"
   ]
  }
 ],
 "metadata": {
  "extensions": {
   "jupyter_dashboards": {
    "activeView": "report_default",
    "version": 1,
    "views": {
     "grid_default": {
      "name": "grid",
      "type": "grid"
     },
     "report_default": {
      "name": "report",
      "type": "report"
     }
    }
   }
  },
  "kernelspec": {
   "display_name": "Python 3",
   "language": "python",
   "name": "python3"
  },
  "language_info": {
   "codemirror_mode": {
    "name": "ipython",
    "version": 3
   },
   "file_extension": ".py",
   "mimetype": "text/x-python",
   "name": "python",
   "nbconvert_exporter": "python",
   "pygments_lexer": "ipython3",
   "version": "3.7.0"
  }
 },
 "nbformat": 4,
 "nbformat_minor": 2
}
